{
 "cells": [
  {
   "cell_type": "code",
   "execution_count": 12,
   "id": "177bc0ab",
   "metadata": {},
   "outputs": [],
   "source": [
    "import numpy as np"
   ]
  },
  {
   "cell_type": "code",
   "execution_count": 3,
   "id": "3d510dc7",
   "metadata": {},
   "outputs": [
    {
     "name": "stdout",
     "output_type": "stream",
     "text": [
      "[ 1  2  3  4  5  6  7  8  9 10 11 12 13 14 15 16 17 18 19 20]\n"
     ]
    }
   ],
   "source": [
    "#1 Створіть одновимірний масив (вектор) з першими 10-ма натуральними числами та виведіть його значення\n",
    "vector = np.arange(1,21)\n",
    "print(vector)"
   ]
  },
  {
   "cell_type": "code",
   "execution_count": 4,
   "id": "5836349e",
   "metadata": {},
   "outputs": [
    {
     "name": "stdout",
     "output_type": "stream",
     "text": [
      "[[1 1 1 1]\n",
      " [1 1 1 1]\n",
      " [1 1 1 1]\n",
      " [1 1 1 1]]\n"
     ]
    }
   ],
   "source": [
    "#2 Створіть двовимірний масив (матрицю) розміром 4x4 заповніть його одиницями та виведіть значення\n",
    "matrix = np.ones((4, 4), dtype=int)\n",
    "print(matrix)"
   ]
  },
  {
   "cell_type": "code",
   "execution_count": 13,
   "id": "46d0f0a9",
   "metadata": {},
   "outputs": [
    {
     "name": "stdout",
     "output_type": "stream",
     "text": [
      "[[ 1  1  0 -1  0]\n",
      " [ 0 -1  1 -1  0]\n",
      " [ 1  0 -1 -1  0]\n",
      " [ 1  1  0 -1  0]\n",
      " [-1 -1  1 -1  0]]\n"
     ]
    }
   ],
   "source": [
    "#3 створіть масив розміром 5x5, заповніть його випадковими цілими числами в діапазоні від -1 до 1 та виведіть його значення\n",
    "matrix = np.random.randint(-1, 2, size=(5, 5))\n",
    "print(matrix)"
   ]
  },
  {
   "cell_type": "code",
   "execution_count": 14,
   "id": "42e17219",
   "metadata": {},
   "outputs": [
    {
     "name": "stdout",
     "output_type": "stream",
     "text": [
      "[[1 1 1]\n",
      " [1 1 1]\n",
      " [0 0 1]]\n"
     ]
    }
   ],
   "source": [
    "#4 створіть масив розміром 3х3, заповніть його випадковими цілими числами в діапазоні від 0 до 1 та виведіть його значення\n",
    "matrix = np.random.randint(2, size=(3, 3))\n",
    "print(matrix)"
   ]
  },
  {
   "cell_type": "code",
   "execution_count": 15,
   "id": "0e638415",
   "metadata": {},
   "outputs": [
    {
     "name": "stdout",
     "output_type": "stream",
     "text": [
      "[-11  10   5   6  -2  13]\n",
      "[27 28 23  8 12 21]\n",
      "[152 171 126   7  35  68]\n"
     ]
    }
   ],
   "source": [
    "#5 створіть два одновимірні масиви розміром 6, заповніть його випадковими цілими числами в діапазоні від 1 до 20 та виконайте на них поелементні операції додавання, віднімання та множення\n",
    "vector_1 = np.array([np.random.randint(1, 21) for n in range(6)])\n",
    "vector_2 = np.array([np.random.randint(1, 21) for n in range(6)])\n",
    "print(vector_1 - vector_2)\n",
    "print(vector_1 + vector_2)\n",
    "print(vector_1 * vector_2)\n"
   ]
  },
  {
   "cell_type": "code",
   "execution_count": 17,
   "id": "5045b54a",
   "metadata": {},
   "outputs": [
    {
     "name": "stdout",
     "output_type": "stream",
     "text": [
      "[[15 40 30 45]\n",
      " [15 40 30 45]\n",
      " [15 40 30 45]]\n"
     ]
    }
   ],
   "source": [
    "#6 створіть дві матриці розміром 3х2 та 2х4, заповніть їх випадковими цілими числами в діапазоні від 1 до 5 та перемножте їх між собою\n",
    "matrix_1 = np.random.randint(1, 6, size=(3, 2))\n",
    "matrix_2 = np.random.randint(1, 6, size=(2, 4))\n",
    "product = np.matmul(matrix_1, matrix_2)\n",
    "print(product)"
   ]
  },
  {
   "cell_type": "code",
   "execution_count": 19,
   "id": "b35289d1",
   "metadata": {},
   "outputs": [
    {
     "name": "stdout",
     "output_type": "stream",
     "text": [
      "[[0 0 0]\n",
      " [1 0 1]\n",
      " [0 0 0]]\n",
      "[[0 1 0]\n",
      " [0 0 0]\n",
      " [0 1 0]]\n"
     ]
    }
   ],
   "source": [
    "#7 створіть матрицю розміром 3х3 заповніть її випадковими дійсними числами в діапазоні від 0 до 1 та транспонуйте її \n",
    "matrix = np.array(np.random.randint(2, size=(3, 3)))\n",
    "transp_matrix = np.transpose(matrix)\n",
    "print(matrix)\n",
    "print(transp_matrix)\n"
   ]
  },
  {
   "cell_type": "code",
   "execution_count": 20,
   "id": "9b998c79",
   "metadata": {},
   "outputs": [
    {
     "name": "stdout",
     "output_type": "stream",
     "text": [
      "[[-6  6  1]\n",
      " [ 7 -1  8]\n",
      " [ 0  1 -2]]\n"
     ]
    }
   ],
   "source": [
    " #8 створіть дві матиці розміром 3х3,заповніть їх випадковими дійсними числами в діапазоні від 1 до 10 та знайдіть їхню різницю \n",
    "matrix_1 = np.array(np.random.randint(1, 11,  size=(3, 3)))  \n",
    "matrix_2 = np.array(np.random.randint(1, 11,  size=(3, 3)))  \n",
    "print(matrix_1 - matrix_2)"
   ]
  },
  {
   "cell_type": "code",
   "execution_count": 21,
   "id": "e4a5464c",
   "metadata": {},
   "outputs": [
    {
     "name": "stdout",
     "output_type": "stream",
     "text": [
      "[[-20 -22   7]\n",
      " [  8  14 -13]\n",
      " [ -1  15  17]]\n"
     ]
    }
   ],
   "source": [
    "#9 створіть дві матиці розміром 3х3,заповніть їх випадковими дійсними числами в діапазоні від -5 до 5 та знайдіть їх добуток\n",
    "matrix_1 = np.array(np.random.randint(-5, 6,  size=(3, 3)))  \n",
    "matrix_2 = np.array(np.random.randint(-5, 6,  size=(3, 3)))\n",
    "product = np.matmul(matrix_1, matrix_2) \n",
    "print(product)"
   ]
  },
  {
   "cell_type": "code",
   "execution_count": 27,
   "id": "83fa139c",
   "metadata": {},
   "outputs": [
    {
     "name": "stdout",
     "output_type": "stream",
     "text": [
      "[[-0.62336945]\n",
      " [ 0.65532684]\n",
      " [ 0.577956  ]]\n"
     ]
    }
   ],
   "source": [
    "#10 створіть матрицю розміром 3х3 заповніть її випадковими дійсними числами в діапазоні від -1 до 1 та знайдіть вектор-стовпчик що містить суму елементів кожного рядка матриці\n",
    "matrix = np.array(np.random.uniform(-1, 1, 9)).reshape(3, 3)\n",
    "vector = np.array([matrix[0].sum(), matrix[1].sum(), matrix[2].sum()])\n",
    "r_vector = vector.reshape(3, 1)\n",
    "print(r_vector)"
   ]
  },
  {
   "cell_type": "code",
   "execution_count": null,
   "id": "09382c1c",
   "metadata": {},
   "outputs": [],
   "source": []
  }
 ],
 "metadata": {
  "kernelspec": {
   "display_name": "Python 3 (ipykernel)",
   "language": "python",
   "name": "python3"
  },
  "language_info": {
   "codemirror_mode": {
    "name": "ipython",
    "version": 3
   },
   "file_extension": ".py",
   "mimetype": "text/x-python",
   "name": "python",
   "nbconvert_exporter": "python",
   "pygments_lexer": "ipython3",
   "version": "3.9.10"
  }
 },
 "nbformat": 4,
 "nbformat_minor": 5
}
